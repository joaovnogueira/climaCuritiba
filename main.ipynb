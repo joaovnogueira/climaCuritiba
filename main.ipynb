{
 "cells": [
  {
   "cell_type": "code",
   "execution_count": 8,
   "id": "d9f7cef2",
   "metadata": {},
   "outputs": [
    {
     "name": "stdout",
     "output_type": "stream",
     "text": [
      "Clima em Curitiba: Clear sky\n",
      "Temperatura: 297.89°C\n",
      "Umidade: 53%\n"
     ]
    }
   ],
   "source": [
    "import requests\n",
    "import os\n",
    "from dotenv import load_dotenv\n",
    "\n",
    "load_dotenv()  \n",
    "\n",
    "API_KEY = os.getenv(\"OPENWEATHER_API_KEY\")\n",
    "cidade = \"Curitiba\"\n",
    "base_url = f\"https://api.openweathermap.org/data/2.5/weather?\"\n",
    "\n",
    "url = base_url + \"appid=\" + API_KEY + \"&q=\" + cidade\n",
    "\n",
    "resposta = requests.get(url)\n",
    "dados = resposta.json()\n",
    "\n",
    "if resposta.status_code == 200:\n",
    "    print(f\"Clima em {dados['name']}: {dados['weather'][0]['description'].capitalize()}\")\n",
    "    print(f\"Temperatura: {dados['main']['temp']}°C\")\n",
    "    print(f\"Umidade: {dados['main']['humidity']}%\")\n",
    "else:\n",
    "    print(\"Erro:\", dados.get(\"message\", \"Não foi possível obter os dados\"))\n"
   ]
  }
 ],
 "metadata": {
  "kernelspec": {
   "display_name": "Python 3",
   "language": "python",
   "name": "python3"
  },
  "language_info": {
   "codemirror_mode": {
    "name": "ipython",
    "version": 3
   },
   "file_extension": ".py",
   "mimetype": "text/x-python",
   "name": "python",
   "nbconvert_exporter": "python",
   "pygments_lexer": "ipython3",
   "version": "3.13.3"
  }
 },
 "nbformat": 4,
 "nbformat_minor": 5
}
