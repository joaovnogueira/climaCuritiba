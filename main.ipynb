{
 "cells": [
  {
   "cell_type": "code",
   "execution_count": 21,
   "id": "d9f7cef2",
   "metadata": {},
   "outputs": [
    {
     "name": "stdout",
     "output_type": "stream",
     "text": [
      "2024-07-01: 20.0°C máx, 6.0°C mín, Clearing in the afternoon.\n",
      "2024-07-02: 22.9°C máx, 5.8°C mín, Clear conditions throughout the day.\n",
      "2024-07-03: 25.0°C máx, 11.3°C mín, Clear conditions throughout the day.\n",
      "2024-07-04: 25.0°C máx, 14.2°C mín, Partly cloudy throughout the day.\n",
      "2024-07-05: 26.0°C máx, 12.0°C mín, Clear conditions throughout the day.\n",
      "2024-07-06: 14.0°C máx, 10.9°C mín, Cloudy skies throughout the day.\n",
      "2024-07-07: 17.9°C máx, 10.9°C mín, Cloudy skies throughout the day.\n",
      "2024-07-08: 11.9°C máx, 10.0°C mín, Cloudy skies throughout the day.\n",
      "2024-07-09: 10.0°C máx, 9.0°C mín, Cloudy skies throughout the day.\n",
      "2024-07-10: 15.0°C máx, 9.0°C mín, Partly cloudy throughout the day.\n",
      "2024-07-11: 17.9°C máx, 10.0°C mín, Partly cloudy throughout the day.\n",
      "2024-07-12: 16.9°C máx, 9.0°C mín, Cloudy skies throughout the day.\n",
      "2024-07-13: 12.0°C máx, 8.0°C mín, Cloudy skies throughout the day.\n",
      "2024-07-14: 14.0°C máx, 10.8°C mín, Cloudy skies throughout the day with a chance of rain throughout the day.\n",
      "2024-07-15: 13.0°C máx, 11.8°C mín, Cloudy skies throughout the day.\n",
      "2024-07-16: 16.0°C máx, 12.0°C mín, Cloudy skies throughout the day.\n",
      "2024-07-17: 23.9°C máx, 10.0°C mín, Partly cloudy throughout the day.\n",
      "2024-07-18: 22.9°C máx, 10.8°C mín, Clearing in the afternoon.\n",
      "2024-07-19: 20.9°C máx, 10.0°C mín, Clearing in the afternoon.\n",
      "2024-07-20: 21.9°C máx, 6.0°C mín, Clear conditions throughout the day.\n",
      "2024-07-21: 23.9°C máx, 5.9°C mín, Clearing in the afternoon.\n",
      "2024-07-22: 23.9°C máx, 8.4°C mín, Clear conditions throughout the day.\n",
      "2024-07-23: 23.9°C máx, 7.8°C mín, Partly cloudy throughout the day.\n",
      "2024-07-24: 24.0°C máx, 8.9°C mín, Partly cloudy throughout the day.\n",
      "2024-07-25: 24.9°C máx, 9.3°C mín, Clear conditions throughout the day.\n",
      "2024-07-26: 23.9°C máx, 11.5°C mín, Partly cloudy throughout the day.\n",
      "2024-07-27: 24.0°C máx, 12.5°C mín, Becoming cloudy in the afternoon.\n",
      "2024-07-28: 24.9°C máx, 12.0°C mín, Clear conditions throughout the day.\n",
      "2024-07-29: 16.9°C máx, 10.1°C mín, Cloudy skies throughout the day.\n",
      "2024-07-30: 11.9°C máx, 9.0°C mín, Cloudy skies throughout the day.\n"
     ]
    }
   ],
   "source": [
    "import requests\n",
    "import os\n",
    "from dotenv import load_dotenv\n",
    "\n",
    "\n",
    "load_dotenv()  \n",
    "\n",
    "API_KEY = os.getenv(\"MY_API_KEY\")\n",
    "localizacao = \"Curitiba\"\n",
    "data_inicial = \"2024-07-01\"\n",
    "data_final = \"2024-07-30\"\n",
    "\n",
    "url = f\"https://weather.visualcrossing.com/VisualCrossingWebServices/rest/services/timeline/{localizacao}/{data_inicial}/{data_final}?unitGroup=metric&key={API_KEY}&include=days\"\n",
    "\n",
    "resposta = requests.get(url)\n",
    "\n",
    "dados = resposta.json()\n",
    "\n",
    "for dia in dados['days']:\n",
    "    print(f\"{dia['datetime']}: {dia['tempmax']}°C máx, {dia['tempmin']}°C mín, {dia['description']}\")"
   ]
  },
  {
   "cell_type": "markdown",
   "id": "daf28d6d",
   "metadata": {},
   "source": [
    "Colocando em português a previsão e histórico do tempo"
   ]
  },
  {
   "cell_type": "code",
   "execution_count": 23,
   "id": "2d821f09",
   "metadata": {},
   "outputs": [
    {
     "name": "stdout",
     "output_type": "stream",
     "text": [
      "2024-07-01: 20,0 ° C Máx, 6,0 ° C Mín, limpando à tarde.\n",
      "2024-07-02: 22,9 ° C Máx, 5,8 ° C Mín, condições claras ao longo do dia.\n",
      "2024-07-03: 25,0 ° C Máx, 11,3 ° C Mín, condições claras ao longo do dia.\n",
      "2024-07-04: 25,0 ° C Máx, 14,2 ° C Mín, parcialmente nublado ao longo do dia.\n",
      "2024-07-05: 26,0 ° C Máx, 12,0 ° C Mín, condições claras ao longo do dia.\n",
      "2024-07-06: 14,0 ° C Máx, 10,9 ° C Mín, céu nublado ao longo do dia.\n",
      "2024-07-07: 17,9 ° C Máx, 10,9 ° C Mín, céu nublado ao longo do dia.\n",
      "2024-07-08: 11,9 ° C Máx, 10,0 ° C Mín, céu nublado ao longo do dia.\n",
      "2024-07-09: 10,0 ° C Máx, 9,0 ° C Mín, céu nublado ao longo do dia.\n",
      "2024-07-10: 15,0 ° C Máx, 9,0 ° C Mín, parcialmente nublado ao longo do dia.\n",
      "2024-07-11: 17,9 ° C Máx, 10,0 ° C mín, parcialmente nublado ao longo do dia.\n",
      "2024-07-12: 16,9 ° C Máx, 9,0 ° C Mín, céu nublado ao longo do dia.\n",
      "2024-07-13: 12,0 ° C Máx, 8,0 ° C Mín, céu nublado ao longo do dia.\n",
      "2024-07-14: 14,0 ° C Máx, 10,8 ° C Mín, céus nublados ao longo do dia com uma chance de chuva ao longo do dia.\n",
      "2024-07-15: 13,0 ° C Máx, 11,8 ° C Mín, céu nublado ao longo do dia.\n",
      "2024-07-16: 16,0 ° C Máx, 12,0 ° C Mín, céu nublado ao longo do dia.\n",
      "2024-07-17: 23,9 ° C Máx, 10,0 ° C mín, parcialmente nublado ao longo do dia.\n",
      "2024-07-18: 22,9 ° C Máx, 10,8 ° C Mín, limpando à tarde.\n",
      "2024-07-19: 20,9 ° C Máx, 10,0 ° C Mín, limpando à tarde.\n",
      "2024-07-20: 21,9 ° C Máx, 6,0 ° C Mín, condições claras ao longo do dia.\n",
      "2024-07-21: 23,9 ° C Máx, 5,9 ° C Mín, limpando à tarde.\n",
      "2024-07-22: 23,9 ° C Máx, 8,4 ° C Mín, condições claras ao longo do dia.\n",
      "2024-07-23: 23,9 ° C Máx, 7,8 ° C mín, parcialmente nublado ao longo do dia.\n",
      "2024-07-24: 24,0 ° C Máx, 8,9 ° C Mín, parcialmente nublado ao longo do dia.\n",
      "2024-07-25: 24,9 ° C Máx, 9,3 ° C Mín, condições claras ao longo do dia.\n",
      "2024-07-26: 23,9 ° C Máx, 11,5 ° C Mín, parcialmente nublado ao longo do dia.\n",
      "2024-07-27: 24,0 ° C Máx, 12,5 ° C Mín, ficando nublado à tarde.\n",
      "2024-07-28: 24,9 ° C Máx, 12,0 ° C Mín, condições claras ao longo do dia.\n",
      "2024-07-29: 16,9 ° C Máx, 10,1 ° C Mín, céu nublado ao longo do dia.\n",
      "2024-07-30: 11,9 ° C Máx, 9,0 ° C Mín, céu nublado ao longo do dia.\n"
     ]
    }
   ],
   "source": [
    "from deep_translator import GoogleTranslator\n",
    "\n",
    "dados = resposta.json()\n",
    "\n",
    "texto_en = []\n",
    "\n",
    "for dia in dados['days']:\n",
    "    texto_en = f\"{dia['datetime']}: {dia['tempmax']}°C máx, {dia['tempmin']}°C mín, {dia['description']}\"\n",
    "    texto_ptbr = GoogleTranslator(source='en', target='pt').translate(texto_en)\n",
    "    print(texto_ptbr)\n",
    "\n",
    "\n"
   ]
  },
  {
   "cell_type": "code",
   "execution_count": null,
   "id": "14571872",
   "metadata": {},
   "outputs": [],
   "source": []
  }
 ],
 "metadata": {
  "kernelspec": {
   "display_name": "Python 3",
   "language": "python",
   "name": "python3"
  },
  "language_info": {
   "codemirror_mode": {
    "name": "ipython",
    "version": 3
   },
   "file_extension": ".py",
   "mimetype": "text/x-python",
   "name": "python",
   "nbconvert_exporter": "python",
   "pygments_lexer": "ipython3",
   "version": "3.13.3"
  }
 },
 "nbformat": 4,
 "nbformat_minor": 5
}
